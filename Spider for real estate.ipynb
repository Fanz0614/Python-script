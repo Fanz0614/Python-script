{
 "cells": [
  {
   "cell_type": "markdown",
   "metadata": {},
   "source": [
    "## Spyder script for www.domain.com.au"
   ]
  },
  {
   "cell_type": "markdown",
   "metadata": {},
   "source": [
    "A simple spyder to get information from www.domain.com.au"
   ]
  },
  {
   "cell_type": "code",
   "execution_count": 5,
   "metadata": {},
   "outputs": [
    {
     "name": "stdout",
     "output_type": "stream",
     "text": [
      "Phone：\n",
      "['+61383149999']\n",
      "Agent name：\n",
      "['Ansett Real Estate']\n",
      "Agent email：\n",
      "['admin@ansettre.com.au']\n",
      "Results have been automatcally saved\n"
     ]
    }
   ],
   "source": [
    "#Acencies\n",
    "import urllib.request\n",
    "import re\n",
    "import csv\n",
    "import pandas as pd\n",
    "l=[]\n",
    "def load_data():\n",
    "    url='https://www.domain.com.au/real-estate-agencies/campbellfield-vic-3061/?page=3'\n",
    "    #open url\n",
    "    headers = {'User-Agent':'Mozilla/5.0 (Windows NT 6.1; WOW64; rv:23.0) Gecko/20100101 Firefox/23.0'}\n",
    "    req = urllib.request.Request(url=url, headers=headers)\n",
    "    response = urllib.request.urlopen(req)\n",
    "    # read url data\n",
    "    data= response.read()\n",
    "    # decode to string \n",
    "    data=data.decode('utf-8')\n",
    "    target_detai1=re.findall('<a href=\"tel:(.*?)\" class=\"button is-a-tag is-icon is-link contact__call-button\">',data)\n",
    "    target_detail2=re.findall(r'\"cardTitle\":\"(.*?)\",\"address\"',data)\n",
    "    target_detail3=re.findall(r'\"emailAddress\":\"(.*?)\",\"phoneNumber\"',data)\n",
    "    \n",
    "    print('Phone：')\n",
    "    print(target_detai1)\n",
    "    print('Agent name：')\n",
    "    print(target_detail2)\n",
    "    print('Agent email：')\n",
    "    print(target_detail3)\n",
    "    new_df = pd.DataFrame([target_detai1,target_detail2,target_detail3]).T\n",
    "    new_df.columns = ['Phone','Name','Email']\n",
    "    new_df.to_csv('C:/Users/DELL/Desktop/agent/Campbellfield.csv',mode='a',index=False)\n",
    "    \n",
    "    print('Results have been automatcally saved')\n",
    "    \n",
    "load_data()"
   ]
  },
  {
   "cell_type": "code",
   "execution_count": 6,
   "metadata": {},
   "outputs": [
    {
     "name": "stdout",
     "output_type": "stream",
     "text": [
      "Phone：\n",
      "['+61411508711', '+61425289844', '+61413432165', '+61403139133', '+61401118083', '+61413377874', '+61438530080']\n",
      "Name：\n",
      "['Halil Okur', 'Sandeep Rathee', 'Virginia Haroun', 'Tony Barkho', 'Ayad Shaba', 'Mohamad Mawas', 'Jane Skinner']\n",
      "Email：\n",
      "['hokur@barryplant.com.au', 'sandeep@bloomea.com.au', 'virginia.haroun@roxburghpark.rh.com.au', 'enquiries@regalrealestate.com.au', 'ayads@regalrealestate.com.au', 'mawas@firstnationalmh.com.au', 'jane@walshewhitelock.com.au']\n",
      ">>>>>>>>>>>>>>>>>>>>>>>>>>>>>>>>>>>>>>>>>>>>>>>>>>>>>>>>>>>>>>>>>>>>>>>>>>>>>>>>>>>>>>>>>>>>>>>>>>>>>>>>>>>>>>>>\n",
      "Results have been automatcally saved\n"
     ]
    }
   ],
   "source": [
    "#Individual\n",
    "l=[]\n",
    "def load_data():\n",
    "    url='https://www.domain.com.au/real-estate-agents/campbellfield-vic-3061/?page=3'\n",
    "    #open url\n",
    "    headers = {'User-Agent':'Mozilla/5.0 (Windows NT 6.1; WOW64; rv:23.0) Gecko/20100101 Firefox/23.0'}\n",
    "    req = urllib.request.Request(url=url, headers=headers)\n",
    "    response = urllib.request.urlopen(req)\n",
    "    # read url data\n",
    "    data= response.read()\n",
    "    # decode to string \n",
    "    data=data.decode('utf-8')\n",
    "    target_detai1=re.findall('<a href=\"tel:(.*?)\" class=\"button is-a-tag is-icon is-link contact__call-button\">',data)\n",
    "    target_detail2=re.findall(r'\"cardTitle\":\"(.*?)\",\"cardSubtitle\":',data)\n",
    "    target_detail3=re.findall(r'\"emailAddress\":\"(.*?)\",\"phoneNumber\"',data)\n",
    "    print('Phone：')\n",
    "    print(target_detai1)\n",
    "    print('Name：')\n",
    "    print(target_detail2)\n",
    "    print('Email：')\n",
    "    print(target_detail3)\n",
    "    new_df = pd.DataFrame([target_detai1,target_detail2,target_detail3]).T\n",
    "    new_df.columns = ['Phone','Name','Email']\n",
    "    new_df.to_csv('C:/Users/DELL/Desktop/agent/Campbellfield_individual.csv',mode='a',index=False)\n",
    "    \n",
    "    print('>>>>>>>>>>>>>>>>>>>>>>>>>>>>>>>>>>>>>>>>>>>>>>>>>>>>>>>>>>>>>>>>>>>>>>>>>>>>>>>>>>>>>>>>>>>>>>>>>>>>>>>>>>>>>>>>')\n",
    "    print('Results have been automatcally saved')\n",
    "    \n",
    "load_data()"
   ]
  },
  {
   "cell_type": "code",
   "execution_count": null,
   "metadata": {},
   "outputs": [],
   "source": []
  }
 ],
 "metadata": {
  "kernelspec": {
   "display_name": "Python 3",
   "language": "python",
   "name": "python3"
  },
  "language_info": {
   "codemirror_mode": {
    "name": "ipython",
    "version": 3
   },
   "file_extension": ".py",
   "mimetype": "text/x-python",
   "name": "python",
   "nbconvert_exporter": "python",
   "pygments_lexer": "ipython3",
   "version": "3.7.1"
  }
 },
 "nbformat": 4,
 "nbformat_minor": 2
}
